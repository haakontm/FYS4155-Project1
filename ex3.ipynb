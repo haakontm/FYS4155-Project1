{
 "cells": [
  {
   "cell_type": "code",
   "execution_count": 4,
   "metadata": {},
   "outputs": [
    {
     "data": {
      "image/png": "[encoded data removed]",
      "text/plain": [
       "<Figure size 432x288 with 1 Axes>"
      ]
     },
     "metadata": {
      "needs_background": "light"
     },
     "output_type": "display_data"
    }
   ],
   "source": [
    "import matplotlib.pyplot as plt\n",
    "import numpy as np\n",
    "from sklearn.linear_model import LinearRegression\n",
    "from sklearn.model_selection import KFold, cross_val_score\n",
    "from sklearn.preprocessing import StandardScaler\n",
    "from sklearn.metrics import mean_squared_error\n",
    "\n",
    "RANDOMSTATE = 42\n",
    "\n",
    "np.random.seed(RANDOMSTATE)\n",
    "\n",
    "max_degree = 9\n",
    "datapoints = 50\n",
    "num_kfolds = 10\n",
    "noise = 0.5\n",
    "\n",
    "def FrankeFunction(x,y):\n",
    "    term1 = 0.75*np.exp(-(0.25*(9*x-2)**2) - 0.25*((9*y-2)**2))\n",
    "    term2 = 0.75*np.exp(-((9*x+1)**2)/49.0 - 0.1*(9*y+1))\n",
    "    term3 = 0.5*np.exp(-(9*x-7)**2/4.0 - 0.25*((9*y-3)**2)) \n",
    "    term4 = -0.2*np.exp(-(9*x-4)**2 - (9*y-7)**2)\n",
    "    return term1 + term2 + term3 + term4\n",
    "\n",
    "def create_X(x, y, n):\n",
    "\tif len(x.shape) > 1:\n",
    "\t\tx = np.ravel(x)\n",
    "\t\ty = np.ravel(y)\n",
    "\n",
    "\tN = len(x)\n",
    "\tl = int((n+1)*(n+2)/2)\t\t# Number of elements in beta\n",
    "\tX = np.ones((N,l))\n",
    "\n",
    "\tfor i in range(1,n+1):\n",
    "\t\tq = int((i)*(i+1)/2)\n",
    "\t\tfor k in range(i+1):\n",
    "\t\t\tX[:,q+k] = (x**(i-k))*(y**k)\n",
    "\n",
    "\treturn X\n",
    "\n",
    "# Setting up the data\n",
    "x = np.linspace(0, 1, datapoints)\n",
    "y = np.linspace(0, 1, datapoints)\n",
    "x, y = np.meshgrid(x, y)\n",
    "z = FrankeFunction(x, y)\n",
    "z += noise * np.random.randn(z.shape[0], z.shape[1])\n",
    "\n",
    "# Storing the error, variance and bias\n",
    "cv_score = np.zeros(max_degree)\n",
    "cv_sklearn = np.zeros(max_degree)\n",
    "\n",
    "kfold = KFold(num_kfolds, shuffle=True)\n",
    "\n",
    "# own code\n",
    "for degree in range(max_degree):\n",
    "    X = create_X(x, y, degree)\n",
    "\n",
    "    mse_values = np.zeros(num_kfolds)\n",
    "    i = 0\n",
    "\n",
    "    for train_idx, test_idx in kfold.split(X):\n",
    "        X_train = X[train_idx]\n",
    "        X_test = X[test_idx]\n",
    "        z_train = z.reshape(-1, 1)[train_idx]\n",
    "        z_test = z.reshape(-1, 1)[test_idx]\n",
    "\n",
    "        beta = np.linalg.inv(X_train.T @ X_train) @ X_train.T @ z_train\n",
    "        z_pred = X_test @ beta\n",
    "\n",
    "        mse_values[i] = mean_squared_error(z_test, z_pred)\n",
    "        i += 1\n",
    "\n",
    "    cv_score[degree] = np.mean(mse_values)\n",
    "\n",
    "# sklearn\n",
    "for degree in range(max_degree):\n",
    "    X = create_X(x, y, degree)\n",
    "\n",
    "    cv_sklearn[degree] = -np.mean(cross_val_score(LinearRegression(fit_intercept=False), X, z.reshape(-1, 1), scoring='neg_mean_squared_error', cv=kfold))\n",
    "\n",
    "fig, ax = plt.subplots()\n",
    "ax.plot(range(max_degree), cv_score, 'b', label='own cv score')\n",
    "ax.plot(range(max_degree), cv_sklearn, 'r*', label='sklearn cv score')\n",
    "ax.set_xlabel('Model complexity')\n",
    "ax.legend()\n",
    "plt.show()"
   ]
  }
 ],
 "metadata": {
  "interpreter": {
   "hash": "eb9bd2f943bcae842206ddeef2d6bb0fb1b0093a69f8137a6f09342779c3c983"
  },
  "kernelspec": {
   "display_name": "Python 3.8.6 64-bit (system)",
   "name": "python3"
  },
  "language_info": {
   "codemirror_mode": {
    "name": "ipython",
    "version": 3
   },
   "file_extension": ".py",
   "mimetype": "text/x-python",
   "name": "python",
   "nbconvert_exporter": "python",
   "pygments_lexer": "ipython3",
   "version": "3.8.6"
  },
  "orig_nbformat": 4
 },
 "nbformat": 4,
 "nbformat_minor": 2
}
