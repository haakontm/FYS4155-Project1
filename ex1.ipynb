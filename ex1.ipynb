{
 "metadata": {
  "language_info": {
   "codemirror_mode": {
    "name": "ipython",
    "version": 3
   },
   "file_extension": ".py",
   "mimetype": "text/x-python",
   "name": "python",
   "nbconvert_exporter": "python",
   "pygments_lexer": "ipython3",
   "version": "3.8.6"
  },
  "orig_nbformat": 4,
  "kernelspec": {
   "name": "python3",
   "display_name": "Python 3.8.6 64-bit (system)"
  },
  "interpreter": {
   "hash": "eb9bd2f943bcae842206ddeef2d6bb0fb1b0093a69f8137a6f09342779c3c983"
  }
 },
 "nbformat": 4,
 "nbformat_minor": 2,
 "cells": [
  {
   "cell_type": "code",
   "execution_count": 53,
   "source": [
    "import numpy as np\r\n",
    "import matplotlib.pyplot as plt\r\n",
    "from sklearn.model_selection import train_test_split\r\n",
    "from sklearn.metrics import r2_score, mean_squared_error\r\n",
    "from sklearn.linear_model import LinearRegression\r\n",
    "\r\n",
    "def FrankeFunction(x,y):\r\n",
    "    term1 = 0.75*np.exp(-(0.25*(9*x-2)**2) - 0.25*((9*y-2)**2))\r\n",
    "    term2 = 0.75*np.exp(-((9*x+1)**2)/49.0 - 0.1*(9*y+1))\r\n",
    "    term3 = 0.5*np.exp(-(9*x-7)**2/4.0 - 0.25*((9*y-3)**2)) \r\n",
    "    term4 = -0.2*np.exp(-(9*x-4)**2 - (9*y-7)**2)\r\n",
    "    return term1 + term2 + term3 + term4\r\n",
    "\r\n",
    "def create_X(x, y, n):\r\n",
    "\tif len(x.shape) > 1:\r\n",
    "\t\tx = np.ravel(x)\r\n",
    "\t\ty = np.ravel(y)\r\n",
    "\r\n",
    "\tN = len(x)\r\n",
    "\tl = int((n+1)*(n+2)/2)\t\t# Number of elements in beta\r\n",
    "\tX = np.ones((N,l))\r\n",
    "\r\n",
    "\tfor i in range(1,n+1):\r\n",
    "\t\tq = int((i)*(i+1)/2)\r\n",
    "\t\tfor k in range(i+1):\r\n",
    "\t\t\tX[:,q+k] = (x**(i-k))*(y**k)\r\n",
    "\r\n",
    "\treturn X\r\n",
    "\r\n",
    "RANDOM_STATE = 42\r\n",
    "\r\n",
    "n = 5   # Max order of polynomial\r\n",
    "N = 50  # Number of points\r\n",
    "noise = 0.15\r\n",
    "\r\n",
    "x = np.linspace(0, 1, N)\r\n",
    "y = np.linspace(0, 1, N)\r\n",
    "x, y = np.meshgrid(x, y)\r\n",
    "\r\n",
    "train_MSE = np.zeros(n)\r\n",
    "test_MSE = np.zeros(n)\r\n",
    "train_R2 = np.zeros(n)\r\n",
    "test_R2 = np.zeros(n)\r\n",
    "\r\n",
    "np.random.seed(RANDOM_STATE)\r\n",
    "\r\n",
    "conf_intervals = np.zeros((n, 2))\r\n",
    "\r\n",
    "for i in range(n):\r\n",
    "    z = FrankeFunction(x, y)\r\n",
    "    z += noise * np.random.randn(z.shape[0], z.shape[1])\r\n",
    "\r\n",
    "    X = create_X(x, y, i)\r\n",
    "\r\n",
    "    X_train, X_test, z_train, z_test = train_test_split(X, z.reshape(-1, 1), random_state=RANDOM_STATE, test_size=0.3)\r\n",
    "\r\n",
    "    beta = np.linalg.inv(X_train.T @ X_train) @ X_train.T @ z_train\r\n",
    "    z_tilde = X_train @ beta\r\n",
    "    z_pred = X_test @ beta\r\n",
    "\r\n",
    "    train_MSE[i] = mean_squared_error(z_tilde, z_train)\r\n",
    "    train_R2[i] = r2_score(z_tilde, z_train)\r\n",
    "    test_MSE[i] = mean_squared_error(z_pred, z_test)\r\n",
    "    test_R2[i] = r2_score(z_pred, z_test)\r\n",
    "\r\n",
    "    beta_mu = np.mean(beta)\r\n",
    "    beta_sigma = np.sqrt(np.var(beta))\r\n",
    "    num_betas = beta.shape[0]\r\n",
    "    z = 1.96\r\n",
    "\r\n",
    "    conf_intervals[i, 0] = (beta_mu - (z * beta_sigma) / np.sqrt(num_betas))\r\n",
    "    conf_intervals[i, 1] = (beta_mu + (z * beta_sigma) / np.sqrt(num_betas))\r\n",
    "\r\n",
    "fig, (ax1, ax2) = plt.subplots(1, 2)\r\n",
    "ax1.set_title('Mean Squared Error')\r\n",
    "ax1.plot(range(n), train_MSE, label='Train')\r\n",
    "ax1.plot(range(n), test_MSE, label='Test')\r\n",
    "ax1.set_xlabel('Model complexity')\r\n",
    "ax1.set_ylabel('MSE')\r\n",
    "ax1.legend()\r\n",
    "\r\n",
    "ax2.set_title('R2 score')\r\n",
    "ax2.plot(range(1, n), train_R2[1:], label='Train')\r\n",
    "ax2.plot(range(1, n), test_R2[1:], label='Test')\r\n",
    "ax2.set_xlabel('Model complexity')\r\n",
    "ax2.set_ylabel('R2')\r\n",
    "ax2.legend()\r\n",
    "\r\n",
    "fig.set_figwidth(12)"
   ],
   "outputs": [
    {
     "output_type": "display_data",
     "data": {
      "image/png": "[encoded data removed]",
      "text/plain": [
       "<Figure size 864x288 with 2 Axes>"
      ]
     },
     "metadata": {
      "needs_background": "light"
     }
    }
   ],
   "metadata": {}
  },
  {
   "cell_type": "code",
   "execution_count": 54,
   "source": [
    "import pandas as pd\r\n",
    "\r\n",
    "intervals = pd.DataFrame(conf_intervals)\r\n",
    "intervals.columns = ['lower', 'upper']\r\n",
    "\r\n",
    "print('95% confidence interval:')\r\n",
    "intervals"
   ],
   "outputs": [
    {
     "output_type": "stream",
     "name": "stdout",
     "text": [
      "95% confidence interval:\n"
     ]
    },
    {
     "output_type": "execute_result",
     "data": {
      "text/html": [
       "<div>\n",
       "<style scoped>\n",
       "    .dataframe tbody tr th:only-of-type {\n",
       "        vertical-align: middle;\n",
       "    }\n",
       "\n",
       "    .dataframe tbody tr th {\n",
       "        vertical-align: top;\n",
       "    }\n",
       "\n",
       "    .dataframe thead th {\n",
       "        text-align: right;\n",
       "    }\n",
       "</style>\n",
       "<table border=\"1\" class=\"dataframe\">\n",
       "  <thead>\n",
       "    <tr style=\"text-align: right;\">\n",
       "      <th></th>\n",
       "      <th>lower</th>\n",
       "      <th>upper</th>\n",
       "    </tr>\n",
       "  </thead>\n",
       "  <tbody>\n",
       "    <tr>\n",
       "      <th>0</th>\n",
       "      <td>0.406317</td>\n",
       "      <td>0.406317</td>\n",
       "    </tr>\n",
       "    <tr>\n",
       "      <th>1</th>\n",
       "      <td>-0.889707</td>\n",
       "      <td>0.768217</td>\n",
       "    </tr>\n",
       "    <tr>\n",
       "      <th>2</th>\n",
       "      <td>-0.587225</td>\n",
       "      <td>0.570822</td>\n",
       "    </tr>\n",
       "    <tr>\n",
       "      <th>3</th>\n",
       "      <td>-1.685807</td>\n",
       "      <td>1.718979</td>\n",
       "    </tr>\n",
       "    <tr>\n",
       "      <th>4</th>\n",
       "      <td>-5.173883</td>\n",
       "      <td>5.146276</td>\n",
       "    </tr>\n",
       "  </tbody>\n",
       "</table>\n",
       "</div>"
      ],
      "text/plain": [
       "      lower     upper\n",
       "0  0.406317  0.406317\n",
       "1 -0.889707  0.768217\n",
       "2 -0.587225  0.570822\n",
       "3 -1.685807  1.718979\n",
       "4 -5.173883  5.146276"
      ]
     },
     "metadata": {},
     "execution_count": 54
    }
   ],
   "metadata": {}
  }
 ]
}