{
 "cells": [
  {
   "cell_type": "code",
   "execution_count": 65,
   "source": [
    "import matplotlib.pyplot as plt\r\n",
    "import numpy as np\r\n",
    "from sklearn.linear_model import LinearRegression\r\n",
    "from sklearn.model_selection import KFold, cross_val_score\r\n",
    "from sklearn.preprocessing import StandardScaler\r\n",
    "from sklearn.metrics import mean_squared_error\r\n",
    "\r\n",
    "RANDOMSTATE = 41\r\n",
    "\r\n",
    "np.random.seed(RANDOMSTATE)\r\n",
    "\r\n",
    "max_degree = 10\r\n",
    "datapoints = 100\r\n",
    "num_kfolds = 10\r\n",
    "noise = 0.15\r\n",
    "\r\n",
    "def FrankeFunction(x,y):\r\n",
    "    term1 = 0.75*np.exp(-(0.25*(9*x-2)**2) - 0.25*((9*y-2)**2))\r\n",
    "    term2 = 0.75*np.exp(-((9*x+1)**2)/49.0 - 0.1*(9*y+1))\r\n",
    "    term3 = 0.5*np.exp(-(9*x-7)**2/4.0 - 0.25*((9*y-3)**2)) \r\n",
    "    term4 = -0.2*np.exp(-(9*x-4)**2 - (9*y-7)**2)\r\n",
    "    return term1 + term2 + term3 + term4\r\n",
    "\r\n",
    "def create_X(x, y, n):\r\n",
    "\tif len(x.shape) > 1:\r\n",
    "\t\tx = np.ravel(x)\r\n",
    "\t\ty = np.ravel(y)\r\n",
    "\r\n",
    "\tN = len(x)\r\n",
    "\tl = int((n+1)*(n+2)/2)\t\t# Number of elements in beta\r\n",
    "\tX = np.ones((N,l))\r\n",
    "\r\n",
    "\tfor i in range(1,n+1):\r\n",
    "\t\tq = int((i)*(i+1)/2)\r\n",
    "\t\tfor k in range(i+1):\r\n",
    "\t\t\tX[:,q+k] = (x**(i-k))*(y**k)\r\n",
    "\r\n",
    "\treturn X\r\n",
    "\r\n",
    "# Setting up the data\r\n",
    "x = np.linspace(0, 1, datapoints)\r\n",
    "y = np.linspace(0, 1, datapoints)\r\n",
    "x, y = np.meshgrid(x, y)\r\n",
    "z = FrankeFunction(x, y)\r\n",
    "z += noise * np.random.randn(z.shape[0], z.shape[1])\r\n",
    "\r\n",
    "# Storing the error, variance and bias\r\n",
    "cv_score = np.zeros(max_degree)\r\n",
    "cv_sklearn = np.zeros(max_degree)\r\n",
    "\r\n",
    "kfold = KFold(num_kfolds)\r\n",
    "\r\n",
    "# own code\r\n",
    "for degree in range(max_degree):\r\n",
    "    X = create_X(x, y, degree)\r\n",
    "    scaler = StandardScaler().fit(X)\r\n",
    "    X = scaler.transform(X)\r\n",
    "\r\n",
    "    mse_values = np.zeros(num_kfolds)\r\n",
    "    i = 0\r\n",
    "\r\n",
    "    for train_idx, test_idx in kfold.split(X):\r\n",
    "        X_train = X[train_idx]\r\n",
    "        X_test = X[test_idx]\r\n",
    "        z_train = z.reshape(-1, 1)[train_idx]\r\n",
    "        z_test = z.reshape(-1, 1)[test_idx]\r\n",
    "\r\n",
    "        linreg = LinearRegression().fit(X_train, z_train)\r\n",
    "        z_pred = linreg.predict(X_test)\r\n",
    "\r\n",
    "        mse_values[i] = mean_squared_error(z_test, z_pred)\r\n",
    "        i += 1\r\n",
    "\r\n",
    "    cv_score[degree] = np.mean(mse_values)\r\n",
    "\r\n",
    "# sklearn\r\n",
    "for degree in range(max_degree):\r\n",
    "    X = create_X(x, y, degree)\r\n",
    "    scaler = StandardScaler().fit(X)\r\n",
    "    X = scaler.transform(X)\r\n",
    "\r\n",
    "    cv_sklearn[degree] = -np.mean(cross_val_score(LinearRegression(), X, z.reshape(-1, 1), scoring='neg_mean_squared_error', cv=kfold))\r\n",
    "\r\n",
    "fig, ax = plt.subplots()\r\n",
    "ax.plot(range(max_degree), cv_score, 'b', label='own cv score')\r\n",
    "ax.plot(range(max_degree), cv_sklearn, 'r*', label='sklearn cv score')\r\n",
    "ax.set_xlabel('Model complexity')\r\n",
    "ax.set_ylabel('MSE')\r\n",
    "ax.legend()\r\n",
    "plt.show()"
   ],
   "outputs": [
    {
     "output_type": "display_data",
     "data": {
      "image/png": "[encoded data removed]",
      "text/plain": [
       "<Figure size 432x288 with 1 Axes>"
      ]
     },
     "metadata": {
      "needs_background": "light"
     }
    }
   ],
   "metadata": {}
  }
 ],
 "metadata": {
  "orig_nbformat": 4,
  "language_info": {
   "name": "python",
   "version": "3.8.6",
   "mimetype": "text/x-python",
   "codemirror_mode": {
    "name": "ipython",
    "version": 3
   },
   "pygments_lexer": "ipython3",
   "nbconvert_exporter": "python",
   "file_extension": ".py"
  },
  "kernelspec": {
   "name": "python3",
   "display_name": "Python 3.8.6 64-bit (system)"
  },
  "interpreter": {
   "hash": "eb9bd2f943bcae842206ddeef2d6bb0fb1b0093a69f8137a6f09342779c3c983"
  }
 },
 "nbformat": 4,
 "nbformat_minor": 2
}